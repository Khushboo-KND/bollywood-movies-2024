{
 "cells": [
  {
   "cell_type": "code",
   "execution_count": null,
   "metadata": {},
   "outputs": [],
   "source": [
    "import pandas as pd\n",
    "from datetime import timedelta\n",
    "import ast\n",
    "import matplotlib.pyplot as plt\n",
    "import seaborn as sns"
   ]
  },
  {
   "cell_type": "code",
   "execution_count": null,
   "metadata": {},
   "outputs": [],
   "source": [
    "movies_df = pd.read_csv('imdb_movies.csv')"
   ]
  },
  {
   "cell_type": "code",
   "execution_count": null,
   "metadata": {},
   "outputs": [],
   "source": [
    "movies_df.head()"
   ]
  },
  {
   "cell_type": "code",
   "execution_count": null,
   "metadata": {},
   "outputs": [],
   "source": [
    "movies_df.info()"
   ]
  },
  {
   "cell_type": "code",
   "execution_count": null,
   "metadata": {},
   "outputs": [],
   "source": [
    "movies_df.describe(include='all')"
   ]
  },
  {
   "cell_type": "code",
   "execution_count": null,
   "metadata": {},
   "outputs": [],
   "source": [
    "movies_with_no_duration = movies_df[movies_df['duration'].isnull()]\n",
    "movies_with_no_duration.to_csv('movies_with_no_duration.csv', index=False)\n",
    "movies_df = movies_df.dropna(subset=['duration'])"
   ]
  },
  {
   "cell_type": "code",
   "execution_count": null,
   "metadata": {},
   "outputs": [],
   "source": [
    "movies_with_no_rating = movies_df[movies_df['imdb_rating'].isnull()]\n",
    "movies_with_no_rating.to_csv('movies_with_no_rating.csv', index=False)\n",
    "movies_df = movies_df.dropna(subset=['imdb_rating'])"
   ]
  },
  {
   "cell_type": "code",
   "execution_count": null,
   "metadata": {},
   "outputs": [],
   "source": [
    "movies_with_more_than_8_rating = movies_df[movies_df['imdb_rating'] > 8]\n",
    "movies_with_more_than_8_rating.to_csv('movies_with_more_than_8_rating.csv', index=False)\n",
    "movies_df = movies_df[movies_df['imdb_rating'] <= 8]"
   ]
  },
  {
   "cell_type": "code",
   "execution_count": null,
   "metadata": {},
   "outputs": [],
   "source": [
    "movies_df['release_date'] = movies_df['release_date'].apply(lambda x: x.split('(')[0].strip().strip())\n",
    "movies_df['release_date'] = pd.to_datetime(movies_df['release_date'], format='mixed')"
   ]
  },
  {
   "cell_type": "code",
   "execution_count": null,
   "metadata": {},
   "outputs": [],
   "source": [
    "movies_df['duration'] = movies_df['duration'].replace('PT', '', regex=True)"
   ]
  },
  {
   "cell_type": "code",
   "execution_count": null,
   "metadata": {},
   "outputs": [],
   "source": [
    "def str_to_time(duration):\n",
    "    hours = int(duration.split('H')[0]) if 'H' in duration else 0\n",
    "    minutes = int(duration.split('M')[0].split('H')[-1]) if 'M' in duration else 0\n",
    "    return f\"{hours:02}:{minutes:02}:00\""
   ]
  },
  {
   "cell_type": "code",
   "execution_count": null,
   "metadata": {},
   "outputs": [],
   "source": [
    "movies_df['duration'] = movies_df['duration'].apply(str_to_time)\n",
    "movies_df['duration'] = pd.to_datetime(movies_df['duration'], format='%H:%M:%S').dt.time"
   ]
  },
  {
   "cell_type": "code",
   "execution_count": null,
   "metadata": {},
   "outputs": [],
   "source": [
    "actors = list(pd.read_csv('Actors.csv')['Actors'])\n",
    "actresses = list(pd.read_csv('Actresses.csv')['Actresses'])"
   ]
  },
  {
   "cell_type": "code",
   "execution_count": null,
   "metadata": {},
   "outputs": [],
   "source": [
    "movies_df['cast'] = movies_df['cast'].apply(ast.literal_eval)\n",
    "movies_df[\"actor\"] = movies_df[\"cast\"].apply(lambda x: [name for name in x if name in actors])\n",
    "movies_df[\"actress\"] = movies_df[\"cast\"].apply(lambda x: [name for name in x if name in actresses])"
   ]
  },
  {
   "cell_type": "code",
   "execution_count": null,
   "metadata": {},
   "outputs": [],
   "source": [
    "movies_df.drop(columns=['cast'], inplace=True)"
   ]
  },
  {
   "cell_type": "code",
   "execution_count": null,
   "metadata": {},
   "outputs": [],
   "source": [
    "movies_df['directors'] = movies_df['directors'].apply(lambda x: ast.literal_eval(x))\n",
    "movies_df['writers'] = movies_df['writers'].apply(lambda x: ast.literal_eval(x))\n",
    "movies_df['genres'] = movies_df['genres'].apply(lambda x: ast.literal_eval(x))\n",
    "movies_df['languages'] = movies_df['languages'].apply(lambda x: ast.literal_eval(x))\n",
    "movies_df['production_companies'] = movies_df['production_companies'].apply(lambda x: ast.literal_eval(x))"
   ]
  },
  {
   "cell_type": "code",
   "execution_count": null,
   "metadata": {},
   "outputs": [],
   "source": [
    "movies_df.info()"
   ]
  },
  {
   "cell_type": "code",
   "execution_count": null,
   "metadata": {},
   "outputs": [],
   "source": [
    "movies_df.describe(include='all')"
   ]
  },
  {
   "cell_type": "code",
   "execution_count": null,
   "metadata": {},
   "outputs": [],
   "source": [
    "movies_df.to_csv('cleaned_imdb_movies.csv', index=False)"
   ]
  },
  {
   "cell_type": "code",
   "execution_count": null,
   "metadata": {},
   "outputs": [],
   "source": [
    "fig, ax = plt.subplots(1, 2, figsize=(20, 10))\n",
    "sns.histplot(movies_df['imdb_rating'], kde=True, ax=ax[0])\n",
    "sns.boxplot(movies_df['imdb_rating'], ax=ax[1], orient='h')\n",
    "plt.show()"
   ]
  },
  {
   "cell_type": "code",
   "execution_count": null,
   "metadata": {},
   "outputs": [],
   "source": [
    "if 'duration_minutes' not in movies_df.columns:\n",
    "\tmovies_df['duration_minutes'] = movies_df['duration'].apply(lambda x: x.hour * 60 + x.minute)\n",
    "\n",
    "plt.figure(figsize=(20, 10))\n",
    "sns.histplot(movies_df['duration_minutes'], kde=True)\n",
    "plt.show()"
   ]
  },
  {
   "cell_type": "code",
   "execution_count": null,
   "metadata": {},
   "outputs": [],
   "source": [
    "top_10_imdb_rated_movies = movies_df.nlargest(20, 'imdb_rating')\n",
    "\n",
    "plt.figure(figsize=(12, 8))\n",
    "sns.barplot(x='imdb_rating', y='title', data=top_10_imdb_rated_movies)\n",
    "plt.xlabel('IMDb Rating')\n",
    "plt.ylabel('Movies')\n",
    "plt.title('Top 10 IMDb Rated Movies')\n",
    "plt.show()"
   ]
  },
  {
   "cell_type": "code",
   "execution_count": null,
   "metadata": {},
   "outputs": [],
   "source": [
    "movies_df['duration_minutes'] = movies_df['duration'].apply(lambda x: x.hour * 60 + x.minute)\n",
    "\n",
    "# Plot the bar chart\n",
    "plt.figure(figsize=(20, 50))\n",
    "sns.barplot(x='duration_minutes', y='title', data=movies_df, order=movies_df.sort_values('duration_minutes', ascending=False)['title'], orient='h')\n",
    "plt.xticks(rotation=90)\n",
    "plt.xlabel('Duration (minutes)')\n",
    "plt.ylabel('Title')\n",
    "plt.title('Duration of Movies')\n",
    "plt.show()"
   ]
  },
  {
   "cell_type": "code",
   "execution_count": null,
   "metadata": {},
   "outputs": [],
   "source": [
    "def plot_top_ten(column, column_name):\n",
    "    plt.figure(figsize=(10,8))\n",
    "    sns.barplot(x=column.values, hue=column.index, y=column.index)\n",
    "    plt.xlabel('Movie count')\n",
    "    plt.ylabel(column_name)\n",
    "    plt.title(f'Top 10 {column_name}')\n",
    "    plt.show()"
   ]
  },
  {
   "cell_type": "code",
   "execution_count": null,
   "metadata": {},
   "outputs": [],
   "source": [
    "top_10_directors = movies_df['directors'].explode().value_counts().head(10)\n",
    "plot_top_ten(top_10_directors, 'Directors')"
   ]
  },
  {
   "cell_type": "code",
   "execution_count": null,
   "metadata": {},
   "outputs": [],
   "source": [
    "top_10_writers = movies_df['writers'].explode().value_counts().head(10)\n",
    "plot_top_ten(top_10_writers, \"Writers\")"
   ]
  },
  {
   "cell_type": "code",
   "execution_count": null,
   "metadata": {},
   "outputs": [],
   "source": [
    "top_10_genres = movies_df['genres'].explode().value_counts().head(10)\n",
    "plot_top_ten(top_10_genres, \"Genres\")"
   ]
  },
  {
   "cell_type": "code",
   "execution_count": null,
   "metadata": {},
   "outputs": [],
   "source": [
    "top_10_languages = movies_df['languages'].explode().value_counts().head(10)\n",
    "plot_top_ten(top_10_languages, \"Languages\")"
   ]
  },
  {
   "cell_type": "code",
   "execution_count": null,
   "metadata": {},
   "outputs": [],
   "source": [
    "top_10_actors = movies_df['actor'].explode().value_counts().head(10)\n",
    "plot_top_ten(top_10_actors, \"Actors (Including Main, Supporting, Cameo)\")"
   ]
  },
  {
   "cell_type": "code",
   "execution_count": null,
   "metadata": {},
   "outputs": [],
   "source": [
    "top_10_actresses = movies_df['actress'].explode().value_counts().head(10)\n",
    "plot_top_ten(top_10_actresses, \"Actresses (Including Main, Supporting, Cameo)\")"
   ]
  },
  {
   "cell_type": "code",
   "execution_count": null,
   "metadata": {},
   "outputs": [],
   "source": [
    "plt.figure(figsize=(20, 10))\n",
    "sns.boxplot(x='imdb_rating', y='genres', data=movies_df.explode('genres'))\n",
    "plt.xlabel('IMDB Rating')\n",
    "plt.ylabel('Genres')\n",
    "plt.title('Genres vs IMDB Rating')\n",
    "plt.show()"
   ]
  },
  {
   "cell_type": "code",
   "execution_count": null,
   "metadata": {},
   "outputs": [],
   "source": [
    "movies_directors_df = movies_df[['title', 'directors']].explode('directors')\n",
    "movies_directors_df.to_excel('movies_directors.xlsx', index=False)\n",
    "\n",
    "movies_writers_df = movies_df[['title', 'writers']].explode('writers')\n",
    "movies_writers_df.to_excel('movies_writers.xlsx', index=False)\n",
    "\n",
    "movies_genres_df = movies_df[['title', 'genres']].explode('genres')\n",
    "movies_genres_df.to_excel('movies_genres.xlsx', index=False)\n",
    "\n",
    "movies_languages_df = movies_df[['title', 'languages']].explode('languages')\n",
    "movies_languages_df.to_excel('movies_languages.xlsx', index=False)\n",
    "\n",
    "movies_production_companies_df = movies_df[['title', 'production_companies']].explode('production_companies')\n",
    "movies_production_companies_df.to_excel('movies_production_companies.xlsx', index=False)\n",
    "\n",
    "movies_actors_df = movies_df[['title', 'actor']].explode('actor')\n",
    "movies_actors_df.to_excel('movies_actors.xlsx', index=False)\n",
    "\n",
    "movies_actresses_df = movies_df[['title', 'actress']].explode('actress')\n",
    "movies_actresses_df.to_excel('movies_actresses.xlsx', index=False)"
   ]
  },
  {
   "cell_type": "code",
   "execution_count": null,
   "metadata": {},
   "outputs": [],
   "source": [
    "movies_info_df = movies_df[['title', 'release_date', 'duration', 'imdb_rating', 'duration_minutes']]\n",
    "movies_info_df.to_excel('movies_info.xlsx', index=False)"
   ]
  },
  {
   "cell_type": "code",
   "execution_count": null,
   "metadata": {},
   "outputs": [],
   "source": [
    "no_directors_df = movies_df[movies_df['directors'].apply(lambda x: len(x) == 0)]\n",
    "no_directors_df"
   ]
  },
  {
   "cell_type": "code",
   "execution_count": null,
   "metadata": {},
   "outputs": [],
   "source": [
    "no_writers_df = movies_df[movies_df['writers'].apply(lambda x: len(x) == 0)]\n",
    "no_writers_df"
   ]
  },
  {
   "cell_type": "code",
   "execution_count": null,
   "metadata": {},
   "outputs": [],
   "source": [
    "movies_df = movies_df[movies_df['directors'].apply(lambda x: len(x) > 0)]"
   ]
  },
  {
   "cell_type": "code",
   "execution_count": null,
   "metadata": {},
   "outputs": [],
   "source": [
    "movies_df = movies_df.explode('directors').explode('writers').explode('genres').explode('languages').explode('production_companies').explode('actor').explode('actress')"
   ]
  },
  {
   "cell_type": "code",
   "execution_count": null,
   "metadata": {},
   "outputs": [],
   "source": [
    "movies_df.info()"
   ]
  },
  {
   "cell_type": "code",
   "execution_count": null,
   "metadata": {},
   "outputs": [],
   "source": [
    "movies_df.describe(include='all')"
   ]
  },
  {
   "cell_type": "code",
   "execution_count": null,
   "metadata": {},
   "outputs": [],
   "source": [
    "movies_df.to_csv('exploded_imdb_movies.csv', index=False)"
   ]
  }
 ],
 "metadata": {
  "kernelspec": {
   "display_name": "Python 3",
   "language": "python",
   "name": "python3"
  },
  "language_info": {
   "codemirror_mode": {
    "name": "ipython",
    "version": 3
   },
   "file_extension": ".py",
   "mimetype": "text/x-python",
   "name": "python",
   "nbconvert_exporter": "python",
   "pygments_lexer": "ipython3",
   "version": "3.13.0"
  }
 },
 "nbformat": 4,
 "nbformat_minor": 2
}
