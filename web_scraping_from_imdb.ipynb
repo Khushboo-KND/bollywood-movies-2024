{
 "cells": [
  {
   "cell_type": "code",
   "execution_count": 1,
   "metadata": {},
   "outputs": [],
   "source": [
    "from selenium import webdriver\n",
    "from selenium.webdriver.common.by import By\n",
    "from selenium.webdriver.common.keys import Keys\n",
    "from selenium.common.exceptions import NoSuchElementException\n",
    "from selenium.webdriver.support import expected_conditions as EC\n",
    "from selenium.webdriver.support.ui import WebDriverWait\n",
    "import time\n",
    "from bs4 import BeautifulSoup\n",
    "import requests\n",
    "import pandas as pd\n",
    "import json"
   ]
  },
  {
   "cell_type": "code",
   "execution_count": 2,
   "metadata": {},
   "outputs": [],
   "source": [
    "parent_url = \"https://www.imdb.com/search/title/?title_type=feature,tv_movie&release_date=2024-01-01,2024-12-31&country_of_origin=IN&primary_language=hi&adult=include&sort=release_date,asc\""
   ]
  },
  {
   "cell_type": "code",
   "execution_count": 3,
   "metadata": {},
   "outputs": [],
   "source": [
    "def driver_initialize():\n",
    "    driver = webdriver.Chrome()\n",
    "    driver.maximize_window()\n",
    "    return driver"
   ]
  },
  {
   "cell_type": "code",
   "execution_count": 4,
   "metadata": {},
   "outputs": [],
   "source": [
    "driver = driver_initialize()"
   ]
  },
  {
   "cell_type": "code",
   "execution_count": 5,
   "metadata": {},
   "outputs": [],
   "source": [
    "def get_soup():\n",
    "    current_url = driver.current_url\n",
    "    headers = {'User-Agent': 'Mozilla/5.0 (Windows NT 10.0; Win64; x64) AppleWebKit/537.36 (KHTML, like Gecko) Chrome/131.0.0.0 Safari/537.36'}\n",
    "    response = requests.get(current_url, headers=headers)\n",
    "    soup = BeautifulSoup(response.text, 'html.parser')\n",
    "    return soup"
   ]
  },
  {
   "cell_type": "code",
   "execution_count": 6,
   "metadata": {},
   "outputs": [],
   "source": [
    "driver.get(parent_url)\n",
    "main_soup = get_soup()\n",
    "total_movies = main_soup.select(\"div.fwjHEn\")[0].get_text(strip=True).split()[-1]"
   ]
  },
  {
   "cell_type": "code",
   "execution_count": 7,
   "metadata": {},
   "outputs": [],
   "source": [
    "def button_click(button_name):\n",
    "    try:\n",
    "        button = WebDriverWait(driver, 10).until(\n",
    "            EC.element_to_be_clickable((By.XPATH, button_name))\n",
    "        )\n",
    "\n",
    "        driver.execute_script(\"arguments[0].click()\", button)\n",
    "\n",
    "    except Exception as e:\n",
    "        print(\"Element not found or clickable!\")\n",
    "        time.sleep(2)"
   ]
  },
  {
   "cell_type": "code",
   "execution_count": 8,
   "metadata": {},
   "outputs": [],
   "source": [
    "def get_attributes(page_soup, element):\n",
    "    try:\n",
    "        attribute = page_soup.select(element)[0].get_text(strip=True)\n",
    "    except:\n",
    "        attribute = \"NA\"\n",
    "\n",
    "    return attribute"
   ]
  },
  {
   "cell_type": "code",
   "execution_count": 9,
   "metadata": {},
   "outputs": [],
   "source": [
    "def get_attribute_list(page_soup,element):\n",
    "    try:\n",
    "        attr_list = page_soup.select(element)\n",
    "        attr_set = set(link.get_text(strip=True) for link in attr_list)\n",
    "        attribute_list = list(attr_set)\n",
    "    except IndexError:\n",
    "        attribute_list = \"NA\"\n",
    "\n",
    "    return attribute_list\n"
   ]
  },
  {
   "cell_type": "code",
   "execution_count": 10,
   "metadata": {},
   "outputs": [],
   "source": [
    "def get_one_attribute(page_soup,element):\n",
    "    try:\n",
    "        attribute = page_soup.select_one(element).get_text(strip=True)\n",
    "    except IndexError:\n",
    "        attribute = \"NA\"\n",
    "    \n",
    "    return attribute"
   ]
  },
  {
   "cell_type": "code",
   "execution_count": 11,
   "metadata": {},
   "outputs": [],
   "source": [
    "def get_script_attribute(page_soup,element):\n",
    "    try:\n",
    "        attribute = page_soup.find('script', type='application/ld+json')\n",
    "        json_data = json.loads(attribute.string)\n",
    "        attribute = json_data.get(element, \"NA\")\n",
    "    except IndexError:\n",
    "        attribute = \"NA\"\n",
    "    \n",
    "    return attribute"
   ]
  },
  {
   "cell_type": "code",
   "execution_count": 12,
   "metadata": {},
   "outputs": [
    {
     "name": "stdout",
     "output_type": "stream",
     "text": [
      "Thumbnail not found!\n"
     ]
    }
   ],
   "source": [
    "movie_list = []\n",
    "\n",
    "for i in range(1,10):\n",
    "    if (i % 50 == 0):\n",
    "        see_more_button = \"(//span[@class='ipc-see-more__text'])\"\n",
    "\n",
    "        button_click(see_more_button)\n",
    "\n",
    "    thumbnail = main_soup.select(\"li.ipc-metadata-list-summary-item\")[i-1]\n",
    "\n",
    "    if thumbnail.select_one(\".ipc-media--fallback\") is not None:\n",
    "        print(\"Thumbnail not found!\")\n",
    "        pass\n",
    "    else:\n",
    "        movie_poster = f\"(//a[@class='ipc-title-link-wrapper'])[{i}]\"\n",
    "\n",
    "        button_click(movie_poster)\n",
    "        \n",
    "        sub_page_soup = get_soup()\n",
    "\n",
    "        title = get_attributes(sub_page_soup, \"span.hero__primary-text\")\n",
    "\n",
    "        duration = get_script_attribute(sub_page_soup, \"duration\")\n",
    "            \n",
    "        imdb_rating = get_attributes(sub_page_soup, \"span.imUuxf\")\n",
    "\n",
    "        directors = get_attribute_list(sub_page_soup, 'a[href*=\"ref_=tt_cst_dr_\"]')\n",
    "\n",
    "        writers = get_attribute_list(sub_page_soup, 'a[href*=\"ref_=tt_ov_wr_\"]')\n",
    "\n",
    "        cast = get_attribute_list(sub_page_soup, 'a.kVdWAO')\n",
    "\n",
    "        genres = get_attribute_list(sub_page_soup, 'a[href*=\"ref_=tt_ov_in_\"]')\n",
    "\n",
    "        release_date = get_one_attribute(sub_page_soup, 'a.ipc-metadata-list-item__list-content-item[href*=\"ref_=tt_dt_rdat\"]')\n",
    "\n",
    "        languages = get_attribute_list(sub_page_soup, 'a[href*=\"ref_=tt_dt_ln\"]')\n",
    "\n",
    "        production_companies = get_attribute_list(sub_page_soup, 'a[href*=\"ref_=tt_dt_cmpy_\"]')\n",
    "            \n",
    "\n",
    "        movie_details = {\"title\":title,\n",
    "                        \"duration\":duration,\n",
    "                        \"imdb_rating\":imdb_rating, \n",
    "                        \"directors\":directors,\n",
    "                        \"writers\":writers,\n",
    "                        \"cast\":cast,\n",
    "                        \"genres\":genres,\n",
    "                        \"release_date\":release_date,\n",
    "                        \"languages\":languages,\n",
    "                        \"production_companies\":production_companies}\n",
    "\n",
    "        movie_list.append(movie_details)\n",
    "\n",
    "        time.sleep(2)\n",
    "        driver.get(parent_url)\n"
   ]
  },
  {
   "cell_type": "code",
   "execution_count": 19,
   "metadata": {},
   "outputs": [],
   "source": [
    "movie_list\n",
    "movies_dataframe = pd.DataFrame(movie_list)\n",
    "movies_dataframe.to_csv(\"imdb_movies.csv\", index=False)"
   ]
  },
  {
   "cell_type": "code",
   "execution_count": 20,
   "metadata": {},
   "outputs": [],
   "source": [
    "driver.quit()"
   ]
  }
 ],
 "metadata": {
  "kernelspec": {
   "display_name": "Python 3",
   "language": "python",
   "name": "python3"
  },
  "language_info": {
   "codemirror_mode": {
    "name": "ipython",
    "version": 3
   },
   "file_extension": ".py",
   "mimetype": "text/x-python",
   "name": "python",
   "nbconvert_exporter": "python",
   "pygments_lexer": "ipython3",
   "version": "3.13.0"
  }
 },
 "nbformat": 4,
 "nbformat_minor": 2
}
