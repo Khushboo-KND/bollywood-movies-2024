{
 "cells": [
  {
   "cell_type": "code",
   "execution_count": 1,
   "metadata": {},
   "outputs": [],
   "source": [
    "from selenium import webdriver\n",
    "from selenium.webdriver.common.by import By\n",
    "from selenium.webdriver.common.keys import Keys\n",
    "from selenium.common.exceptions import NoSuchElementException\n",
    "from selenium.webdriver.support import expected_conditions as EC\n",
    "from selenium.webdriver.support.ui import WebDriverWait\n",
    "import time\n",
    "from bs4 import BeautifulSoup\n",
    "import requests"
   ]
  },
  {
   "cell_type": "code",
   "execution_count": 2,
   "metadata": {},
   "outputs": [],
   "source": [
    "driver = webdriver.Chrome()\n",
    "driver.maximize_window()"
   ]
  },
  {
   "cell_type": "code",
   "execution_count": null,
   "metadata": {},
   "outputs": [
    {
     "name": "stdout",
     "output_type": "stream",
     "text": [
      "<html>\n",
      "<head><title>403 Forbidden</title></head>\n",
      "<body>\n",
      "<center><h1>403 Forbidden</h1></center>\n",
      "</body>\n",
      "</html>\n",
      "\n"
     ]
    }
   ],
   "source": [
    "parent_url = \"https://www.imdb.com/search/title/?title_type=feature,tv_movie&release_date=2024-01-01,2024-12-31&country_of_origin=IN&primary_language=hi&adult=include&sort=release_date,asc\"\n",
    "\n",
    "driver.get(parent_url)\n",
    "headers = {'User-Agent': 'Mozilla/5.0 (Windows NT 10.0; Win64; x64) AppleWebKit/537.36 (KHTML, like Gecko) Chrome/131.0.0.0 Safari/537.36'}\n",
    "response = requests.get(parent_url, headers=headers)\n",
    "main_soup = BeautifulSoup(response.text, \"html.parser\")\n",
    "\n",
    "total_movies = main_soup.select(\"div.fwjHEn\")[0].get_text(strip=True).split()[-1]"
   ]
  },
  {
   "cell_type": "code",
   "execution_count": 39,
   "metadata": {},
   "outputs": [
    {
     "name": "stdout",
     "output_type": "stream",
     "text": [
      "Thumbnail not found!\n"
     ]
    }
   ],
   "source": [
    "movie_list = []\n",
    "\n",
    "for i in range(1, int(total_movies)+1):\n",
    "    if (i % 50 == 0):\n",
    "        see_more_button = \"(//span[@class='ipc-see-more__text'])\"\n",
    "\n",
    "        try:\n",
    "            button = WebDriverWait(driver, 10).until(\n",
    "                EC.element_to_be_clickable((By.XPATH, see_more_button))\n",
    "            )\n",
    "\n",
    "            driver.execute_script(\"arguments[0].click()\", button)\n",
    "        \n",
    "        except Exception as e:\n",
    "            print(\"Element not found or clickable!\")\n",
    "            time.sleep(2)\n",
    "\n",
    "    thumbnail = main_soup.select(\"li.ipc-metadata-list-summary-item\")[i-1]\n",
    "\n",
    "    if thumbnail.select_one(\".ipc-media--fallback\") is not None:\n",
    "        print(\"Thumbnail not found!\")\n",
    "        pass\n",
    "    else:\n",
    "        xpath = f\"(//a[@class='ipc-title-link-wrapper'])[{i}]\"\n",
    "\n",
    "        try:\n",
    "            button = WebDriverWait(driver, 10).until(\n",
    "                EC.element_to_be_clickable((By.XPATH, xpath))\n",
    "            )\n",
    "\n",
    "            driver.execute_script(\"arguments[0].click()\", button)\n",
    "            \n",
    "        except Exception as e:\n",
    "            print(\"Element not found or clickable!\")\n",
    "            time.sleep(2)\n",
    "\n",
    "        current_url = driver.current_url\n",
    "        headers = {'User-Agent': 'Mozilla/5.0 (Windows NT 10.0; Win64; x64) AppleWebKit/537.36 (KHTML, like Gecko) Chrome/131.0.0.0 Safari/537.36'}\n",
    "        response = requests.get(current_url, headers=headers)\n",
    "        sub_page_soup = BeautifulSoup(response.text, \"html.parser\")\n",
    "\n",
    "        try:\n",
    "            title = sub_page_soup.select(\"span.hero__primary-text\")[0].get_text(strip=True)\n",
    "        except IndexError:\n",
    "            title = \"NA\"\n",
    "\n",
    "        try:            \n",
    "            duration = sub_page_soup.select(\"ul.joVhBE > li:nth-of-type(2)\")[0].get_text(strip=True)\n",
    "        except IndexError:\n",
    "            duration = \"NA\"\n",
    "            \n",
    "        try:\n",
    "            imdb_rating = sub_page_soup.select(\"span.imUuxf\")[0].get_text(strip=True)\n",
    "        except IndexError:\n",
    "            imdb_rating = \"NA\"\n",
    "\n",
    "        try:\n",
    "            director_links = sub_page_soup.select('a[href*=\"ref_=tt_cst_dr_\"]')\n",
    "            directors_set = set(link.get_text(strip=True) for link in director_links)\n",
    "            directors = list(directors_set)\n",
    "        except IndexError:\n",
    "            directors = \"NA\"\n",
    "\n",
    "        try:\n",
    "            writer_links = sub_page_soup.select('a[href*=\"ref_=tt_ov_wr_\"]')\n",
    "            writers_set = set(link.get_text(strip=True) for link in writer_links)\n",
    "            writers = list(writers_set)\n",
    "        except IndexError:\n",
    "            writers = \"NA\"\n",
    "\n",
    "        try:\n",
    "            cast_links = sub_page_soup.select(\"a.kVdWAO\")\n",
    "            cast = list(link.get_text(strip=True) for link in cast_links)\n",
    "        except IndexError:\n",
    "            cast = \"NA\"\n",
    "\n",
    "        try:\n",
    "            genre_links = sub_page_soup.select('a[href*=\"ref_=tt_ov_in_\"]')\n",
    "            genres = list(link.get_text(strip=True) for link in genre_links)\n",
    "        except IndexError:\n",
    "            genres = \"NA\"\n",
    "\n",
    "        try:\n",
    "            release_date = sub_page_soup.select_one('a.ipc-metadata-list-item__list-content-item[href*=\"ref_=tt_dt_rdat\"]').get_text(strip=True)\n",
    "        except AttributeError:\n",
    "            release_date = \"NA\"\n",
    "\n",
    "        try:\n",
    "            language_links = sub_page_soup.select('a[href*=\"ref_=tt_dt_ln\"]')\n",
    "            languages = list(link.get_text(strip=True) for link in language_links)\n",
    "        except IndexError:\n",
    "            languages = \"NA\"\n",
    "\n",
    "        try:\n",
    "            production_company_links = sub_page_soup.select('a[href*=\"ref_=tt_dt_cmpy_\"]')\n",
    "            production_companies = list(link.get_text(strip=True) for link in production_company_links)\n",
    "        except IndexError:\n",
    "            production_companies = \"NA\"\n",
    "\n",
    "        try:\n",
    "            gross_worldwide = sub_page_soup.select('li.ipc-inline-list__item > span.ipc-metadata-list-item__list-content-item')[0].get_text(strip=True)\n",
    "        except IndexError:\n",
    "            gross_worldwide = \"NA\"\n",
    "            \n",
    "\n",
    "        movie_details = {\"title\":title,\n",
    "                        \"duration\":duration,\n",
    "                        \"imdb_rating\":imdb_rating, \n",
    "                        \"directors\":directors,\n",
    "                        \"writers\":writers,\n",
    "                        \"cast\":cast,\n",
    "                        \"genres\":genres,\n",
    "                        \"release_date\":release_date,\n",
    "                        \"languages\":languages,\n",
    "                        \"production_companies\":production_companies,\n",
    "                        \"gross_worldwide\":gross_worldwide}\n",
    "\n",
    "        movie_list.append(movie_details)\n",
    "\n",
    "        time.sleep(2)\n",
    "        driver.back()\n"
   ]
  },
  {
   "cell_type": "code",
   "execution_count": 40,
   "metadata": {},
   "outputs": [
    {
     "data": {
      "text/plain": [
       "[{'title': 'Tapori Nayak',\n",
       "  'duration': 'NA',\n",
       "  'imdb_rating': '8.7',\n",
       "  'directors': [],\n",
       "  'writers': [],\n",
       "  'cast': ['Caroline Cave', 'Neil Grayston', 'Nitish Nirmal'],\n",
       "  'genres': ['Adventure'],\n",
       "  'release_date': 'January 4, 2024 (India)',\n",
       "  'languages': ['Hindi'],\n",
       "  'production_companies': [],\n",
       "  'gross_worldwide': '₹1,000,000 (estimated)'}]"
      ]
     },
     "execution_count": 40,
     "metadata": {},
     "output_type": "execute_result"
    }
   ],
   "source": [
    "movie_list"
   ]
  },
  {
   "cell_type": "code",
   "execution_count": 41,
   "metadata": {},
   "outputs": [],
   "source": [
    "driver.close()"
   ]
  },
  {
   "cell_type": "code",
   "execution_count": null,
   "metadata": {},
   "outputs": [],
   "source": []
  }
 ],
 "metadata": {
  "kernelspec": {
   "display_name": ".venv",
   "language": "python",
   "name": "python3"
  },
  "language_info": {
   "codemirror_mode": {
    "name": "ipython",
    "version": 3
   },
   "file_extension": ".py",
   "mimetype": "text/x-python",
   "name": "python",
   "nbconvert_exporter": "python",
   "pygments_lexer": "ipython3",
   "version": "3.13.0"
  }
 },
 "nbformat": 4,
 "nbformat_minor": 2
}
