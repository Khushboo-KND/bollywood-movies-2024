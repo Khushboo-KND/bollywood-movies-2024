{
 "cells": [
  {
   "cell_type": "code",
   "execution_count": 1,
   "metadata": {},
   "outputs": [],
   "source": [
    "import pandas as pd\n",
    "from datetime import timedelta\n",
    "import ast"
   ]
  },
  {
   "cell_type": "code",
   "execution_count": 2,
   "metadata": {},
   "outputs": [],
   "source": [
    "movies_df = pd.read_csv('imdb_movies.csv')"
   ]
  },
  {
   "cell_type": "code",
   "execution_count": null,
   "metadata": {},
   "outputs": [],
   "source": [
    "movies_df.head()"
   ]
  },
  {
   "cell_type": "code",
   "execution_count": null,
   "metadata": {},
   "outputs": [],
   "source": [
    "movies_df.info()"
   ]
  },
  {
   "cell_type": "code",
   "execution_count": null,
   "metadata": {},
   "outputs": [],
   "source": [
    "movies_df.describe(include='all')"
   ]
  },
  {
   "cell_type": "code",
   "execution_count": 6,
   "metadata": {},
   "outputs": [],
   "source": [
    "movies_with_no_duration = movies_df[movies_df['duration'].isnull()]\n",
    "movies_with_no_duration.to_csv('movies_with_no_duration.csv', index=False)\n",
    "movies_df = movies_df.dropna(subset=['duration'])"
   ]
  },
  {
   "cell_type": "code",
   "execution_count": 7,
   "metadata": {},
   "outputs": [],
   "source": [
    "movies_with_no_rating = movies_df[movies_df['imdb_rating'].isnull()]\n",
    "movies_with_no_rating.to_csv('movies_with_no_rating.csv', index=False)\n",
    "movies_df = movies_df.dropna(subset=['imdb_rating'])"
   ]
  },
  {
   "cell_type": "code",
   "execution_count": null,
   "metadata": {},
   "outputs": [],
   "source": [
    "movies_df.info()"
   ]
  },
  {
   "cell_type": "code",
   "execution_count": null,
   "metadata": {},
   "outputs": [],
   "source": [
    "movies_df.describe(include='all')"
   ]
  },
  {
   "cell_type": "code",
   "execution_count": 10,
   "metadata": {},
   "outputs": [],
   "source": [
    "movies_with_more_than_8_rating = movies_df[movies_df['imdb_rating'] > 8]\n",
    "movies_with_more_than_8_rating.to_csv('movies_with_more_than_8_rating.csv', index=False)\n",
    "movies_df = movies_df[movies_df['imdb_rating'] <= 8]"
   ]
  },
  {
   "cell_type": "code",
   "execution_count": null,
   "metadata": {},
   "outputs": [],
   "source": [
    "movies_df.to_csv('cleaned_imdb_movies.csv', index=False)\n",
    "movies_df.info()"
   ]
  },
  {
   "cell_type": "code",
   "execution_count": null,
   "metadata": {},
   "outputs": [],
   "source": [
    "movies_df.describe(include='all')"
   ]
  },
  {
   "cell_type": "code",
   "execution_count": null,
   "metadata": {},
   "outputs": [],
   "source": [
    "movies_df.head()"
   ]
  },
  {
   "cell_type": "code",
   "execution_count": 14,
   "metadata": {},
   "outputs": [],
   "source": [
    "movies_df['duration'] = movies_df['duration'].replace('PT', '', regex=True)"
   ]
  },
  {
   "cell_type": "code",
   "execution_count": 15,
   "metadata": {},
   "outputs": [],
   "source": [
    "def str_to_time(duration):\n",
    "    hours = int(duration.split('H')[0]) if 'H' in duration else 0\n",
    "    minutes = int(duration.split('M')[0].split('H')[-1]) if 'M' in duration else 0\n",
    "    return f\"{hours:02}:{minutes:02}:00\""
   ]
  },
  {
   "cell_type": "code",
   "execution_count": 16,
   "metadata": {},
   "outputs": [],
   "source": [
    "movies_df['duration'] = movies_df['duration'].apply(str_to_time)\n",
    "movies_df['duration'] = pd.to_datetime(movies_df['duration'], format='%H:%M:%S').dt.time"
   ]
  },
  {
   "cell_type": "code",
   "execution_count": null,
   "metadata": {},
   "outputs": [],
   "source": [
    "movies_df.head()"
   ]
  },
  {
   "cell_type": "code",
   "execution_count": null,
   "metadata": {},
   "outputs": [],
   "source": [
    "movies_df.info()"
   ]
  },
  {
   "cell_type": "code",
   "execution_count": 19,
   "metadata": {},
   "outputs": [],
   "source": [
    "def explode_column(df, column):\n",
    "    df[column] = df[column].apply(ast.literal_eval)\n",
    "    exploded_movie_df = df.explode(column).reset_index(drop=True)\n",
    "    return exploded_movie_df"
   ]
  },
  {
   "cell_type": "code",
   "execution_count": null,
   "metadata": {},
   "outputs": [],
   "source": [
    "movies_df = explode_column(movies_df, 'directors')\n",
    "movies_df = explode_column(movies_df, 'writers')\n",
    "movies_df = explode_column(movies_df, 'genres')\n",
    "movies_df = explode_column(movies_df, 'languages')\n",
    "movies_df = explode_column(movies_df, 'production_companies')\n",
    "\n",
    "movies_df.head()"
   ]
  },
  {
   "cell_type": "code",
   "execution_count": null,
   "metadata": {},
   "outputs": [],
   "source": [
    "movies_df.info()"
   ]
  },
  {
   "cell_type": "code",
   "execution_count": 22,
   "metadata": {},
   "outputs": [],
   "source": [
    "movies_df['cast'] = movies_df['cast'].apply(ast.literal_eval)\n",
    "movies_df['actor'] = ''\n",
    "movies_df['actress'] = ''"
   ]
  },
  {
   "cell_type": "code",
   "execution_count": 23,
   "metadata": {},
   "outputs": [],
   "source": [
    "actors = list(pd.read_csv('Actors.csv')['Actors'])\n",
    "actresses = list(pd.read_csv('Actresses.csv')['Actresses'])"
   ]
  },
  {
   "cell_type": "code",
   "execution_count": 24,
   "metadata": {},
   "outputs": [],
   "source": [
    "movies_df[\"actor\"] = movies_df[\"cast\"].apply(lambda x: [name for name in x if name in actors])\n",
    "movies_df[\"actress\"] = movies_df[\"cast\"].apply(lambda x: [name for name in x if name in actresses])"
   ]
  },
  {
   "cell_type": "code",
   "execution_count": 25,
   "metadata": {},
   "outputs": [],
   "source": [
    "movies_df.drop(columns=['cast'], inplace=True)"
   ]
  },
  {
   "cell_type": "code",
   "execution_count": 26,
   "metadata": {},
   "outputs": [],
   "source": [
    "movies_df = movies_df.explode('actor').reset_index(drop=True)\n",
    "movies_df = movies_df.explode('actress').reset_index(drop=True)"
   ]
  },
  {
   "cell_type": "code",
   "execution_count": null,
   "metadata": {},
   "outputs": [],
   "source": [
    "movies_df"
   ]
  },
  {
   "cell_type": "code",
   "execution_count": null,
   "metadata": {},
   "outputs": [],
   "source": []
  }
 ],
 "metadata": {
  "kernelspec": {
   "display_name": "Python 3",
   "language": "python",
   "name": "python3"
  },
  "language_info": {
   "codemirror_mode": {
    "name": "ipython",
    "version": 3
   },
   "file_extension": ".py",
   "mimetype": "text/x-python",
   "name": "python",
   "nbconvert_exporter": "python",
   "pygments_lexer": "ipython3",
   "version": "3.13.0"
  }
 },
 "nbformat": 4,
 "nbformat_minor": 2
}
